{
 "cells": [
  {
   "cell_type": "markdown",
   "id": "b55fc8b2",
   "metadata": {},
   "source": [
    "# Regular Expression"
   ]
  },
  {
   "cell_type": "markdown",
   "id": "983cf71b",
   "metadata": {},
   "source": [
    "A regular expression (also referred to as “regex” or “regexp”), provides a concise and flexible means for matching strings of text, such as particular characters, words, or patterns of characters. \n",
    "\n",
    "A regular expression is written in a formal language that can be interpreted by a regular expression processor.\n",
    "\n",
    "> Really clever “wild card” expressions for matching and parsing strings. Smart “Find” or “Search”."
   ]
  },
  {
   "cell_type": "markdown",
   "id": "c72527d1",
   "metadata": {},
   "source": [
    "### Understanding Regular Expressions! ###"
   ]
  },
  {
   "cell_type": "markdown",
   "id": "2f83245c",
   "metadata": {},
   "source": [
    "- Very powerful and quite cryptic\n",
    "- Fun once you understand them\n",
    "- Regular expressions are a language unto themselves\n",
    "- A language of “marker characters” - programming with characters\n",
    "- This tool will save your day!\n",
    "\n",
    "\n",
    "\n",
    "```\n",
    "\n",
    "\n",
    "\n",
    "\n",
    "```"
   ]
  },
  {
   "cell_type": "markdown",
   "id": "6432ba06",
   "metadata": {},
   "source": [
    "![xkcd](https://imgs.xkcd.com/comics/regular_expressions.png)"
   ]
  },
  {
   "cell_type": "markdown",
   "id": "4672ce48",
   "metadata": {},
   "source": [
    "### Regular Expressions Quick Guide ###"
   ]
  },
  {
   "cell_type": "markdown",
   "id": "51ff71de",
   "metadata": {},
   "source": [
    "```\n",
    "^        Matches the beginning of a line\n",
    "$        Matches the end of the line\n",
    ".        Matches any character\n",
    "\\s       Matches whitespace\n",
    "\\S       Matches any non-whitespace character\n",
    "*        Repeats a character zero or more times\n",
    "*?       Repeats a character zero or more times (non-greedy)\n",
    "+        Repeats a character one or more times\n",
    "+?       Repeats a character one or more times (non-greedy)\n",
    "[aeiou]  Matches a single character in the listed set\n",
    "[^XYZ]   Matches a single character not in the listed set\n",
    "[a-z0-9] The set of characters can include a range\n",
    "(        Indicates where string extraction is to start\n",
    ")        Indicates where string extraction is to end\n",
    "```"
   ]
  },
  {
   "cell_type": "markdown",
   "id": "2e69d132",
   "metadata": {},
   "source": [
    "### Examples: ###\n",
    "\n",
    "`.at` matches any three-character string ending with \"at\", including \"hat\", \"cat\", and \"bat\".\n",
    "\n",
    "`[hc]at` matches \"hat\" and \"cat\".\n",
    "\n",
    "`[^b]at` matches all strings matched by .at except \"bat\".\n",
    "\n",
    "`[^hc]at` matches all strings matched by .at other than \"hat\" and \"cat\".\n",
    "\n",
    "`^[hc]at` matches \"hat\" and \"cat\", but only at the beginning of the string or line.\n",
    "\n",
    "`[hc]at$` matches \"hat\" and \"cat\", but only at the end of the string or line.\n",
    "\n",
    "`\\[.\\]` matches any single character surrounded by \"[\" and \"]\" since the brackets are escaped, for example: \"[a]\" and \"[b]\".\n",
    "\n",
    "`s.*` matches s followed by zero or more characters, for example: \"s\" and \"saw\" and \"seed\".\n"
   ]
  },
  {
   "cell_type": "markdown",
   "id": "bde4a997",
   "metadata": {},
   "source": [
    "# Python: Regular Expressions module ###"
   ]
  },
  {
   "cell_type": "markdown",
   "id": "17dcd2ce",
   "metadata": {},
   "source": [
    "* Before you can use regular expressions in your program, you must import the library using “<font color=green>**import re**</font>”\n",
    "* You can use **<font color=green>re.search()</font>** to see if a string matches a regular expression, similar to using the **<font color=red>find()</font>** method for strings\n",
    "* You can use **<font color=green>re.findall()</font>** to extract portions of a string that match your regular expression, similar to a combination of **<font color=red>find()</font>** and **<font color=red>slicing</font>**:  var[5:10]"
   ]
  },
  {
   "cell_type": "code",
   "execution_count": 2,
   "id": "3d64d5fc",
   "metadata": {},
   "outputs": [],
   "source": [
    "import re"
   ]
  },
  {
   "cell_type": "markdown",
   "id": "dd1ca51b",
   "metadata": {},
   "source": [
    "### Matching and Extracting Data! ###\n",
    "\n",
    "When we use **re.findall()**, it returns a _list_ of zero or more sub-strings that match the regular expression\n"
   ]
  },
  {
   "cell_type": "code",
   "execution_count": 3,
   "id": "458ecf8c",
   "metadata": {},
   "outputs": [
    {
     "name": "stdout",
     "output_type": "stream",
     "text": [
      "['2', '19', '42']\n"
     ]
    }
   ],
   "source": [
    "x = 'My 2 favorite numbers are 19 and 42'\n",
    "y = re.findall('[0-9]+',x)   # [0-9] is the listed set\n",
    "print(y)\n"
   ]
  },
  {
   "cell_type": "code",
   "execution_count": 3,
   "id": "8070ff88",
   "metadata": {},
   "outputs": [
    {
     "name": "stdout",
     "output_type": "stream",
     "text": [
      "['Y', 'O', 'U']\n"
     ]
    }
   ],
   "source": [
    "x = 'MY 2 favOrite nUmbers are 19 and 42'\n",
    "y = re.findall('[AEIOUY]',x)\n",
    "print(y)\n"
   ]
  },
  {
   "cell_type": "markdown",
   "id": "0d73cf01",
   "metadata": {},
   "source": [
    "### Fine-Tuning Your Match! ###"
   ]
  },
  {
   "cell_type": "code",
   "execution_count": 4,
   "id": "26ab23a0",
   "metadata": {},
   "outputs": [
    {
     "name": "stdout",
     "output_type": "stream",
     "text": [
      "['X-DSPAM-Result:']\n"
     ]
    }
   ],
   "source": [
    "x = 'X-DSPAM-Result: Innocent'\n",
    "y = re.findall('^X-\\S+:',x)\n",
    "print(y)"
   ]
  },
  {
   "cell_type": "markdown",
   "id": "2fc917bc",
   "metadata": {},
   "source": [
    "Let's analyze the regex `^X-\\S+:`"
   ]
  },
  {
   "cell_type": "markdown",
   "id": "3cb2db2b",
   "metadata": {},
   "source": [
    "```\n",
    "+-------- ^ Match the start of the line (and next, lines starting with X-)\n",
    "|\n",
    "^X-\\S+:\n",
    "   ||\n",
    "   ++---- \\S Match any non-whitespace character ()\n",
    "\n",
    "Now, what's different with the following?\n",
    "+        Repeats a character one or more times\n",
    "+?       Repeats a character one or more times (non-greedy)\n",
    "*        Repeats a character zero or more times\n",
    "*?       Repeats a character zero or more times (non-greedy)\n",
    "\n",
    "\n",
    "\n",
    "```"
   ]
  },
  {
   "cell_type": "code",
   "execution_count": 5,
   "id": "91bfaef0",
   "metadata": {},
   "outputs": [
    {
     "name": "stdout",
     "output_type": "stream",
     "text": [
      "['X-Plane is behind schedule:']\n"
     ]
    }
   ],
   "source": [
    "x = 'X-Plane is behind schedule: two weeks'\n",
    "y = re.findall('^X.*:',x)\n",
    "print(y)"
   ]
  },
  {
   "cell_type": "code",
   "execution_count": 6,
   "id": "e01eb539",
   "metadata": {},
   "outputs": [
    {
     "name": "stdout",
     "output_type": "stream",
     "text": [
      "['X-Plane is behind schedule: two weeks']\n"
     ]
    }
   ],
   "source": [
    "x = 'X-Plane is behind schedule: two weeks'\n",
    "y = re.findall('^X-.*',x)\n",
    "print(y)"
   ]
  },
  {
   "cell_type": "markdown",
   "id": "48424b3d",
   "metadata": {},
   "source": [
    "**Wild-Card Characters**\n",
    "\n",
    "* The **dot** character matches any character\n",
    "* If you add the **asterisk** character, the character is “any number of times”\n"
   ]
  },
  {
   "cell_type": "markdown",
   "id": "5cc57bf1",
   "metadata": {},
   "source": [
    "### Warning: Greedy Matching ###\n",
    "\n",
    "The repeat characters (* and +) push outward in both directions (**greedy**) to match the largest possible string\n"
   ]
  },
  {
   "cell_type": "code",
   "execution_count": 7,
   "id": "f927a567",
   "metadata": {},
   "outputs": [
    {
     "name": "stdout",
     "output_type": "stream",
     "text": [
      "['From: Using the :']\n"
     ]
    }
   ],
   "source": [
    "x = 'From: Using the : character'\n",
    "# note there are two : above\n",
    "\n",
    "y = re.findall('^F.+:', x)\n",
    "print(y)\n"
   ]
  },
  {
   "cell_type": "markdown",
   "id": "568f16fd",
   "metadata": {},
   "source": [
    "What happened? the **.+:** says 'any char' one or more chars, ... Last character in the match is a : "
   ]
  },
  {
   "cell_type": "markdown",
   "id": "b9c289e3",
   "metadata": {},
   "source": [
    "### Non-Greedy Matching ###\n",
    "\n",
    "Not all regular expression repeat codes are greedy! If you add a **?** character, the + and * chill out a bit... it is allowed to get lazy.\n"
   ]
  },
  {
   "cell_type": "code",
   "execution_count": 8,
   "id": "7365a76f",
   "metadata": {},
   "outputs": [
    {
     "name": "stdout",
     "output_type": "stream",
     "text": [
      "['From:']\n"
     ]
    }
   ],
   "source": [
    "x = 'From: Using the : character'\n",
    "# note there are two : above\n",
    "\n",
    "y = re.findall('^F.+?:', x)\n",
    "# note the use of ? \n",
    "print(y)\n"
   ]
  },
  {
   "cell_type": "markdown",
   "id": "68d2f59c",
   "metadata": {},
   "source": [
    "What happened **NOW**? The **.+?:** says 'any char' until ... stops the first time it matches a character **:**  \n",
    "\n",
    "Also called lazy the **?** allows the . to be lazy and stop early (when used with + and *)"
   ]
  },
  {
   "cell_type": "markdown",
   "id": "86679cc1",
   "metadata": {},
   "source": [
    "### Fine-Tuning String Extraction ###"
   ]
  },
  {
   "cell_type": "markdown",
   "id": "e1e74361",
   "metadata": {},
   "source": [
    "You can refine the match for **re.findall()** and separately determine which portion of the match is to be extracted by **using parentheses**."
   ]
  },
  {
   "cell_type": "code",
   "execution_count": 9,
   "id": "bcb718c9",
   "metadata": {},
   "outputs": [
    {
     "name": "stdout",
     "output_type": "stream",
     "text": [
      "['edu.dsv@kaggle.com']\n"
     ]
    }
   ],
   "source": [
    "x = 'From edu.dsv@kaggle.com Sat Jan  5 09:14:16 2021'\n",
    "y = re.findall('\\S+@\\S+',x)\n",
    "\n",
    "print(y)"
   ]
  },
  {
   "cell_type": "markdown",
   "id": "b6a6c487",
   "metadata": {},
   "source": [
    "```\n",
    "+++-------- \\S At least one non-whitespace character\n",
    "|||\n",
    "\\S+@\\S+\n",
    "    |||\n",
    "    +++---- \\S At least one non-whitespace character\n",
    "\n",
    "\n",
    "\n",
    "```"
   ]
  },
  {
   "cell_type": "markdown",
   "id": "7526163e",
   "metadata": {},
   "source": [
    "**Parentheses** are not part of the match - but they tell where to **start** and **stop** what string to extract"
   ]
  },
  {
   "cell_type": "code",
   "execution_count": 10,
   "id": "ba788434",
   "metadata": {},
   "outputs": [
    {
     "name": "stdout",
     "output_type": "stream",
     "text": [
      "['edu.dsv@kaggle.com']\n"
     ]
    }
   ],
   "source": [
    "x = 'From edu.dsv@kaggle.com Sat Jan  5 09:14:16 2021'\n",
    "y = re.findall('\\S+@\\S+',x)\n",
    "\n",
    "print(y)\n"
   ]
  },
  {
   "cell_type": "code",
   "execution_count": 5,
   "id": "2c6f14c0",
   "metadata": {},
   "outputs": [
    {
     "name": "stdout",
     "output_type": "stream",
     "text": [
      "['edu.dsv@kaggle.com']\n"
     ]
    }
   ],
   "source": [
    "x = 'From edu.dsv@kaggle.com Sat Jan  5 09:14:16 2021'\n",
    "y = re.findall('^From (\\S+@\\S+)',x)\n",
    "# parentheses ->      |       |\n",
    "\n",
    "print(y)\n"
   ]
  },
  {
   "cell_type": "markdown",
   "id": "9d0ba731",
   "metadata": {},
   "source": [
    "## String Parsing Examples… ##\n",
    "\n",
    "Extracting a host name - using **find** and **string slicing**\n"
   ]
  },
  {
   "cell_type": "code",
   "execution_count": 12,
   "id": "f0ba687e",
   "metadata": {},
   "outputs": [
    {
     "name": "stdout",
     "output_type": "stream",
     "text": [
      "12\n"
     ]
    }
   ],
   "source": [
    "data = 'From edu.dsv@kaggle.com Sat Jan  5 09:14:16 2021'\n",
    "#                   |          |\n",
    "#      ->           12         23 \n",
    "\n",
    "atpos = data.find('@') # find the first occurence of @ and return its position\n",
    "print(atpos)"
   ]
  },
  {
   "cell_type": "code",
   "execution_count": 13,
   "id": "410f06ed",
   "metadata": {},
   "outputs": [
    {
     "name": "stdout",
     "output_type": "stream",
     "text": [
      "23\n"
     ]
    }
   ],
   "source": [
    "# find the first occurence of a whitespace, starting where we found the @ and return its position\n",
    "sppos = data.find(' ',atpos)\n",
    "# note the 2nd param    |\n",
    "\n",
    "print(sppos)\n"
   ]
  },
  {
   "cell_type": "code",
   "execution_count": 14,
   "id": "db2e7640",
   "metadata": {},
   "outputs": [
    {
     "name": "stdout",
     "output_type": "stream",
     "text": [
      "kaggle.com\n"
     ]
    }
   ],
   "source": [
    "# slicing strings with the :\n",
    "host = data[atpos+1 : sppos]\n",
    "print(host)"
   ]
  },
  {
   "cell_type": "markdown",
   "id": "03e3926b",
   "metadata": {},
   "source": [
    "\n",
    "---\n",
    "\n",
    "### Quick note on find() and search()\n",
    "\n",
    "As seen above **data.find('@')** returns an int: the position of the first occurence of @ if found, otherwise zero.\n",
    "\n",
    "`search()` returns true/false, and to use it similarly in the same example, you'd use:\n",
    "\n",
    "    if re.search('@', data) :\n",
    "\n",
    "Similarly, we fine-tune what is matched by adding special characters to the string. \n",
    "\n",
    "For instance, to use it as you'd use **startswith()** with strings, you would:\n",
    "\n",
    "    if re.search('^From:', data) :\n",
    "\n",
    "> Useful when reading a file and need to know if the line contains (**True or False**) something specific (but <font color=red>not</font> the **exact position**, initially)\n",
    "\n",
    "---"
   ]
  },
  {
   "cell_type": "markdown",
   "id": "8df04d7c",
   "metadata": {},
   "source": [
    "### The Double Split Pattern ###\n",
    "\n",
    "Sometimes we split a line one way, and then grab one of the pieces of the line and split that piece again\n"
   ]
  },
  {
   "cell_type": "code",
   "execution_count": 15,
   "id": "23d5c36c",
   "metadata": {},
   "outputs": [
    {
     "name": "stdout",
     "output_type": "stream",
     "text": [
      "09:14:16\n"
     ]
    }
   ],
   "source": [
    "line = 'From edu.dsv@kaggle.com Sat Jan  5 09:14:16 2021'\n",
    "#   ->      |                  |   |   |  |        |    -> a list of 7 elements when splitted on whitespaces.\n",
    "\n",
    "words = line.split()        # splits on whitespaces\n",
    "print(words[5])\n"
   ]
  },
  {
   "cell_type": "code",
   "execution_count": 16,
   "id": "72485255",
   "metadata": {},
   "outputs": [
    {
     "name": "stdout",
     "output_type": "stream",
     "text": [
      "kaggle.com\n"
     ]
    }
   ],
   "source": [
    "email = words[1]            # 'edu.dsv@kaggle.com'\n",
    "pieces = email.split('@')   # ['edu.dsv', 'kaggle.com']\n",
    "print(pieces[1])\n"
   ]
  },
  {
   "cell_type": "markdown",
   "id": "24c744e4",
   "metadata": {},
   "source": [
    "## The Regex Version ##"
   ]
  },
  {
   "cell_type": "code",
   "execution_count": 17,
   "id": "a82d300c",
   "metadata": {},
   "outputs": [
    {
     "name": "stdout",
     "output_type": "stream",
     "text": [
      "['kaggle.com']\n"
     ]
    }
   ],
   "source": [
    "import re \n",
    "\n",
    "line = 'From edu.dsv@kaggle.com Sat Jan  5 09:14:16 2021'\n",
    "y = re.findall('@([^ ]*)',line)\n",
    "print(y)\n"
   ]
  },
  {
   "cell_type": "markdown",
   "id": "14bdcb90",
   "metadata": {},
   "source": [
    "```\n",
    "      +-----+--   Extract the non-blank characters\n",
    "      |     |\n",
    "    '@([^ ]*)'\n",
    "     | |  ||\n",
    "     | |  |+---   Match many of them\n",
    "     | |  |\n",
    "     | +--+----   Match non-blank character\n",
    "     |\n",
    "     +---------   Look through the string until you find an '@' sign\n",
    "\n",
    "\n",
    "\n",
    "```"
   ]
  },
  {
   "cell_type": "markdown",
   "id": "2488cbc9",
   "metadata": {},
   "source": [
    "## Even cooler Regex Version ##"
   ]
  },
  {
   "cell_type": "code",
   "execution_count": 4,
   "id": "1807ca3a",
   "metadata": {},
   "outputs": [
    {
     "name": "stdout",
     "output_type": "stream",
     "text": [
      "['kaggle.com']\n"
     ]
    }
   ],
   "source": [
    "import re \n",
    "line = 'From edu.dsv@kaggle.com Sat Jan  5 09:14:16 2021'\n",
    "y = re.findall('^From .*@([^ ]+)',line)\n",
    "print(y)"
   ]
  },
  {
   "cell_type": "markdown",
   "id": "8cb81d4e",
   "metadata": {},
   "source": [
    "Now, let's take a closer look at the regex:\n",
    "`^From .*@([^ ]*)`"
   ]
  },
  {
   "cell_type": "markdown",
   "id": "0de2e958",
   "metadata": {},
   "source": [
    "```\n",
    "          +--+--- Match non-blank character\n",
    "          |  |+-- Match many of them\n",
    "          |++||\n",
    "^From .*@([^ ]*)\n",
    "|     ||||     +-- Stop extracting\n",
    "|     |||+-------- Start extracting\n",
    "|     |||\n",
    "|     ||+--  ...looking for an @ sign\n",
    "|     ++--- now, skip a bunch of characters\n",
    "|\n",
    "|+++++-----  ... look for the string 'From ' \n",
    "+----------  Starting at the beginning of the line\n",
    "\n",
    "\n",
    "\n",
    "```"
   ]
  },
  {
   "cell_type": "markdown",
   "id": "801591dc",
   "metadata": {},
   "source": [
    "## Escape Character ##"
   ]
  },
  {
   "cell_type": "markdown",
   "id": "71980af0",
   "metadata": {},
   "source": [
    "If you want a special regular expression character to just behave **normally** (most of the time) you prefix it with '\\\\'\n",
    "\n",
    "This allows you to **match** reserved characters and not use their special meanings in regex.\n"
   ]
  },
  {
   "cell_type": "code",
   "execution_count": 19,
   "id": "ba15af16",
   "metadata": {},
   "outputs": [
    {
     "name": "stdout",
     "output_type": "stream",
     "text": [
      "['$10.00']\n"
     ]
    }
   ],
   "source": [
    "import re\n",
    "x = 'We just received $10.00 for cookies.'\n",
    "y = re.findall('\\$[0-9.]+',x)\n",
    "print(y)\n"
   ]
  },
  {
   "cell_type": "markdown",
   "id": "1ca9750f",
   "metadata": {},
   "source": [
    "```\n",
    "  \\$[0-9.]+\n",
    "  | |     |\n",
    "  | |     +---- At least one or more\n",
    "  | -++++------ A digit or period\n",
    "  +------------ A real $ sign\n",
    "\n",
    "\n",
    "\n",
    "```\n",
    "\n",
    "> Note:\n",
    ">\n",
    "> &#92; escapes the next character, allowing you to match reserved characters `[ ] ( ) { } . * + ? ^ $ \\`"
   ]
  },
  {
   "cell_type": "markdown",
   "id": "369d16c9",
   "metadata": {},
   "source": [
    "---"
   ]
  },
  {
   "cell_type": "markdown",
   "id": "a31df55e",
   "metadata": {},
   "source": [
    "# Let's go up one step in complexity\n",
    "\n",
    "We've been playing around with email address patterns in our examples so far, but we've also been naive as they don't always work correctly in the real world.\n",
    "\n",
    "By now you would be able to understand most of the next regex. Most, but we'll need to explain some of it.\n",
    "\n",
    "**<\\b[A-Z0-9._%+-]+@[A-Z0-9.-]+\\.[A-Z]{2,4}\\b>**  \n",
    "\n",
    "> In short - With the above pattern, we can search through a text file to find or verify with **this pattern** if a given string looks like an **email address**.\n",
    "\n",
    "It looks as a complex pattern as it includes lots of things like \n",
    "\n",
    "    - Character Class\n",
    "    - Alphabet sets\n",
    "    - Percentage signs\n",
    "    - Numbers\n",
    "    - Underscores\n",
    "    - $\\{\\}$, word boundaries, etc, etc...\n",
    "    \n",
    "The most basic regex pattern is a token just like $<b>$ -a single literal character. In the string **\" Zebra is an animal.\"**, this will match the first $b$ in the **Ze$b$** Note that it doesn't matter whether it's present in the middle of the word as of now.\n",
    "\n",
    "Now a few very basic things used in $<regex>$ to define itself: we will break the e-mail address pattern above piece by piece.\n",
    "\n",
    "There are **11** metacharacters (characters with special meaning): the opening square bracket $<[>$, the backslash, the caret <^>, the dollar sign <$>, the period or dot <.>, the\n",
    "vertical bar or pipe symbol <|>, the question mark <?>, the asterisk or star <*>, the plus sign <+>, the opening\n",
    "round bracket <(> and the closing round bracket <)>. \n",
    "\n",
    "|Meta character|Description|\n",
    "|:----:|----|\n",
    "|**.**|<b>Period matches any single character except a line break.<b>|\n",
    "|**[ ]**|<b>Character class. Matches any character contained between the square brackets.<b>|\n",
    "|**[^ ]**|<b>Negated character class. Matches any character that is not contained between the square brackets <b>.|\n",
    "|*****|<b>Matches 0 or more repetitions of the preceding symbol.<b>|\n",
    "|**+**|<b>Matches 1 or more repetitions of the preceding symbol.<b>|\n",
    "|**?**|<b>Makes the preceding symbol optional.<b>|\n",
    "|**{n,m}**|<b>Braces. Matches at least \"n\" but not more than \"m\" repetitions of the preceding symbol.<b>|\n",
    "|**(xyz)**|<b>Character group. Matches the characters xyz in that exact order.<b>|\n",
    "|**&#124;**|<b>Alternation. Matches either the characters before or the characters after the symbol.<b>|\n",
    "|**&#92;**|<b>Escapes the next character. This allows you to match reserved characters `[ ] ( ) { } . * + ? ^ $ \\`.<b>| \n",
    "|**^**|<b>Matches the beginning of the input.<b>|\n",
    "|**$**|<b>Matches the end of the input.<b>|\n",
    "\n",
    "- Escape example  - If you want to use any of these characters as a literal in a regex, you need to escape them with a backslash. If\n",
    "you want to match **<1+1=2>**, the correct regex is $1\\+1=2$. Otherwise, the plus sign will have a special meaning. **Note** that **<1+1=2>**, with the *backslash omitted*, is a **valid** regex. So you will **not** get an error message. But it\n",
    "will not match **<1+1=2>**. "
   ]
  },
  {
   "cell_type": "markdown",
   "id": "e6cc6fbd",
   "metadata": {},
   "source": [
    "# The Regex engine always returns the left-most match\n",
    "This is a very important point to understand: even if a **better** match could be found later, it will always return the leftmost match, meaning the first occurence if you start from the left. \n",
    "\n",
    "When applying a regex to a string, the engine will start at the first character of the string. It will try all possible permutations of the regular expression at the first character.\n",
    "\n",
    "Only if all possibilities have been tried and failed, then the engine will continue with the second character in\n",
    "the text. Again, it will try all possible permutations of the regex, in exactly the same order. The result is that\n",
    "the regex engine will return the leftmost match.\n",
    "- When applying **<cat\\>** to **He captured a catfish for his cat.**, the engine will try to match the first\n",
    "token in the regex **<c\\>** to the first character in the match **H**. This fails. There are no other possible\n",
    "permutations of this regex, because it merely consists of a sequence of literal characters. So the regex engine\n",
    "tries to match the **<c\\>** with the **e**. This fails too, as does matching the **c** with the space. Arriving at the 4th\n",
    "character in the match, **<c\\>** <font color=red>matches</font> **c**. The engine will then try to match the second token **<a\\>** to the 5th character, **a**. This <font color=red>succeeds</font> too. But then, **<t\\>** <font color=red>fails</font> to match **p**. At that point, the engine knows the regex cannot be matched starting at the 4th character in the match. So it will continue with the 5th: **a**. Again, **<c\\>** fails to match here and the engine carries on. At the 15th character in the match, **<c\\>** again <font color=red>**matches**</font> **c**. The engine then proceeds to attempt to match the remainder of the regex at character 15 and finds that **<a\\>** <font color=red>**matches**</font> **a** and **<t\\>** <font color=red>**matches**</font> **t**.\n",
    "\n",
    "- The entire regular expression could be matched starting at character 15. The engine is **\"eager\"** to report a\n",
    "match. **It will therefore report the first three letters of catfish as a valid match**. The engine **never** proceeds\n",
    "beyond this point to see if there are any **better** matches. The *first match* is considered good enough. "
   ]
  },
  {
   "cell_type": "markdown",
   "id": "5f61abeb",
   "metadata": {},
   "source": [
    "# Regex's Fundamentals"
   ]
  },
  {
   "cell_type": "markdown",
   "id": "4cfb2a1a",
   "metadata": {},
   "source": [
    "### Character Sets/Classes\n",
    "Character sets are also called character class. **Square brackets** are used to specify character sets. Use a **hyphen -** inside a character set to specify the characters' range. The order of the character range inside square brackets doesn't matter. For example, the regular expression `[Tt]he` means: `an uppercase T or lowercase t, followed by the letter h, followed by the letter e.`\n",
    "\n",
    "- **<[Tt]he>** => <font color=red>The</font> car parked in <font color=red>the</font> garage.\n",
    "\n",
    "A period inside a character set, however, means a literal period. The regular expression **<ar[.]>** means: a lowercase character a, followed by letter r, followed by a period **.** character.\n",
    "\n",
    "- **<ar[.]>** => A garage is a good place to park a c<font color=red>ar.</font>\n",
    "\n",
    "- **<[0-9]>** => Matches a **single digit between 0 and 9**. You can use more than one range.\n",
    "- **<[0-9a-fA-F]>** => Matches a **single hexadecimal digit**, case insensitively. \n",
    "- You can combine ranges and single characters. **<[0-9a-fxA-FX]>** matches a hexadecimal digit or the letter X.* Again, the order of the characters and the ranges does not matter.*\n",
    "- Find a word, even if it is misspelled, such as **<sep[ae]r[ae]te>** or **<li[cs]en[cs]e>**. \n",
    "\n",
    "### Negated Character Sets/Classes\n",
    "\n",
    "Typing a **caret(^)** after the opening square bracket will negate the character class. **The result is that the character\n",
    "class will match any character that is <font color = red>not </font> in the character class.**\n",
    "- It is important to remember that a negated character class **still must match a character**. **<q[^u]>** does not\n",
    "mean: **<font color= red> a q not followed by a u </font>**. It means: **<font color= red> a q followed by a character that is not a u </font>**. It will **not** match the\n",
    "$q$ in the string $Iraq$. It will match the $q$ and $the\\ space$ after the $q$ in **$Iraq\\ is\\ a\\ country$**.\n",
    "\n",
    "###  Shorthand Character Sets\n",
    "\n",
    "Regular expression provides **shorthands** for the commonly used character sets,\n",
    "which offer **convenient shorthands** for commonly used regular expressions. The\n",
    "shorthand character sets are as follows:\n",
    "\n",
    "|Shorthand|Description|\n",
    "|:----:|----|\n",
    "|<b>.<b>|<b>Any character except new line. It's the most commonly misused metacharacter.<b>|\n",
    "|<b>\\w<b>|<b>Matches alphanumeric characters: `[a-zA-Z0-9_]`<b>|\n",
    "|<b>\\W<b>|<b>Matches non-alphanumeric characters: `[^\\w]`<b>|\n",
    "|<b>\\d<b>|<b>Matches digit: `[0-9]`<b>|\n",
    "|<b>\\D<b>|<b>Matches non-digit: `[^\\d]`<b>|\n",
    "|<b>\\s<b>|<b>Matches whitespace character: `[\\t\\n\\f\\r\\p{Z}]`<b>|\n",
    "|<b>\\S<b>|<b>Matches non-whitespace character: `[^\\s]`<b>|\n",
    "    \n",
    "## Repetitions\n",
    "\n",
    "The following metacharacters `+`, `*` or `?` are used to specify how many times a\n",
    "subpattern can occur. These meta characters act differently in different\n",
    "situations.\n",
    "\n",
    "### The Star *\n",
    "\n",
    "The symbol `*` matches zero or more repetitions of the preceding matcher. The\n",
    "regular expression `a*` means: zero or more repetitions of preceding lowercase\n",
    "character `a`. But if it appears after a character set or class then it finds\n",
    "the repetitions of the whole character set. \n",
    "For example, the regular expression\n",
    "- `[a-z]*` means: any number of lowercase letters in a row.\n",
    "\n",
    "The `*` symbol can be used with the meta character `.` to match any string of\n",
    "characters `.*`. The `*` symbol can be used with the whitespace character `\\s`\n",
    "to match a string of whitespace characters. For example, the expression\n",
    "`\\s*cat\\s*` means: zero or more spaces, followed by lowercase character `c`,\n",
    "followed by lowercase character `a`, followed by lowercase character `t`,\n",
    "followed by zero or more spaces.\n",
    "\n",
    "### The Plus +\n",
    "\n",
    "The symbol `+` matches one or more repetitions of the preceding character. For\n",
    "example, the regular expression `c.+t` means: lowercase letter `c`, followed by\n",
    "at least one character, followed by the lowercase character `t`. It needs to be\n",
    "clarified that `t` is the last `t` in the sentence.\n",
    "\n",
    "- **<c.+t>** => The fat <font color='red'> cat sat on the mat</font>.\n",
    "\n",
    "### The Question Mark ?\n",
    "In regular expression the meta character `?` makes the preceding character optional. This symbol matches zero or one instance of the preceding character. For example, the regular expression `[T]?he` means: `Optional the uppercase letter T, followed by the lowercase character h, followed by the lowercase character e.`\n",
    "\n",
    "- **<[Tt]he>** => <font color=red>The</font> car parked in <font color=red>the</font> garage.\n",
    "\n",
    "### The Lazy Star *? \n",
    "\n",
    "Repeats the previous item zero or more times. Lazy, so the engine first attempts to skip the\n",
    "previous item, before trying permutations with ever increasing matches of the preceding\n",
    "item. \n",
    "\n",
    "|Regex|Means|\n",
    "|:----:|----|\n",
    "|abc+|        matches a string that has ab followed by one or more c|\n",
    "|abc?|       matches a string that has ab followed by zero or one c|\n",
    "|abc{2}|      matches a string that has ab followed by 2 c|\n",
    "|abc{2,}|    matches a string that has ab followed by 2 or more c|\n",
    "|abc{2,5}|    matches a string that has ab followed by 2 up to 5 c|\n",
    "|a(bc)\\*|     matches a string that has a followed by zero or more copies of the sequence bc|\n",
    "|a(bc){2,5}|  matches a string that has a followed by 2 up to 5 copies of the sequence bc|\n",
    "|**<.+>**| matches `<div>simple div</div>`|\n",
    "\n",
    "## Full stop or Period or dot **.**\n",
    "\n",
    "In regular expressions, the dot or period is one of the most commonly <font color = 'Blue'>used</font> metacharacters. Unfortunately, it is also the most commonly <font color = 'Red'>misused</font> metacharacter. The dot is short for the negated character class **<[^\\n]>** (UNIX regex flavors) or\n",
    "**<[^\\r\\n]>** (Windows regex flavors).\n",
    "\n",
    "<font color = 'Red'> <b> Use The Dot Sparingly </b> </font>\n",
    "- The dot is a **very powerful** regex metacharacter. It allows you to be **lazy**. `Put in a dot, and everything will\n",
    "match just fine when you test the regex on valid data. The problem is that the regex will also match in cases\n",
    "where it should not match.`\n",
    "    \n",
    "Example - Let’s say we want to match a date in `mm/dd/yy` format, but we\n",
    "want to leave the user the choice of date separators. The quick solution is **<\\d\\d.\\d\\d.\\d\\d>**. Seems fine at\n",
    "first sight.. It will match a date like `02/12/03` just what we intended, So fine... \n",
    "- <font color='red'> <b> Trouble is: 02512703<b></font> is also considered a **valid date** by this regular expression. In this match, the first dot matched $5$, and the second matched $7$. Obviously $not$ what we intended. \n",
    "    \n",
    "## Dollars and Carets: Start of String and End of String Anchors ( $ and ^)\n",
    "\n",
    "Anchors are a different breed. They do not match any character at all. Instead, they match a position before,\n",
    "after or between characters. They can be used to `anchor` the regex match at a certain position. \n",
    "- The caret **<^>**\n",
    "matches the position before the first character in the string. Applying **<^a>** to `abc` matches `a`. **<^b>** will\n",
    "not match `abc` at all, because the **<b\\>** cannot be matched right after the start of the string, matched by **<^>**.\n",
    "- Similarly, **<\\$>** matches right after the last character in the string. **<c\\$>** matches `c` in `abc`, while **<a\\$>** `does not` match `abc` at all...."
   ]
  },
  {
   "cell_type": "markdown",
   "id": "2cb3528f",
   "metadata": {},
   "source": [
    "# Examples\n",
    "\n",
    "In the following: Regex are written `highlighted` and the String to be matched is in \"**bold**\"\n",
    "\n",
    "Suppose you want to use a regex to match a list of function names in a programming language: \"**Get, GetValue, Set or SetValue.**\" \n",
    "- The obvious solution is `Get|GetValue|Set|SetValue`\n",
    "\n",
    "*Now take a look closer carefully at the regex and the string, both.\n",
    "Here are some other ways to do the same task*\n",
    "-  `Get(Value)?|Set(Value)?`\n",
    "-  `\\b(Get|GetValue|Set|SetValue)\\b`\n",
    "-  `\\b(Get(Value)?|Set(Value)?)\\b`\n",
    "- Even this one is correct `\\b(Get|Set)(Value)?\\b`\n",
    "\n",
    "**Regex**:\t`<[^>]+>`\n",
    "- **What it does**:\tThis finds any HTML, such as `<\\a>, <\\b>, <\\img />, <\\br />, etc`. You can use this to find segments that have HTML tags you need to deal with, or to remove all HTML tags from a text.\n",
    "    \n",
    "**Regex**:\t`https?:\\/\\/[\\w\\.\\/\\-?=&%,]+`\n",
    "- What it does:\tThis will find a URL. It will capture most URLs that begin with http:// or https://.\n",
    "\n",
    "**Regex**:\t`'\\w+?'`\n",
    "- **What it does**:\tThis finds single words that are surrounded by apostrophes.\n",
    "\n",
    "**Regex**:\t`([-A-Za-z0-9_]*?([-A-Za-z_][0-9]|[0-9][-A-Za-z_])[-A-Za-z0-9_]*)`\n",
    "- **What it does**:\tAlphanumeric part numbers and references like: 1111_A, AA1AAA or 1-1-1-A, 21A1 and 10UC10P-BACW, abcd-1234, 1234-pqtJK, sft-0021 or 21-1_AB and 55A or AK7_GY.\n",
    "This can be very useful if you are translating documents that have a lot of alphanumeric codes or references in them, and you need to be able to find them easily.\n",
    "\n",
    "**Regex**:\t`\\b(the|The)\\b.*?\\b(?=\\W?\\b(is|are|was|can|shall| must|that|which|about|by|at|if|when|should|among|above|under|$)\\b)`\n",
    "- **What it does**:\tThis finds text that begins with the or The and ends with stop words such as is, are, was, can, shall, must, that, which, about, by, at, if, when, should, among, above or under, or the end of the segment.\n",
    "This is particularly useful when you need to extract terminology. Suppose you have segments like these:\n",
    "`\n",
    "The Web based look up is our new feature. A project manager should not proofread... Our Product Name is...`\n",
    "    - The Regex shown above would find anything between The and is, or should. With most texts, there is a good chance that anything this Regex finds is a good term that you can add to your Termbase.\n",
    "\n",
    "**Regex**:\t`\\b(a|an|A|An)\\b.*?\\b(?=\\W?\\b(is|are|was|can|shall|must |that|which|about|by|at|if|when|among|above|under|$)\\b)`\n",
    "- **What it does**:\tThis works much like the Regex shown above, except that it finds text that begins with a or an, rather than the. This can also be very helpful when you need to extract terminology from a project.\n",
    "\n",
    "**Regex**:  `\\b(this|these|This|These)\\b.*?\\b(?=\\W?\\b(is|are|was|can|shall|must|that|which|about|by|at|if|when|among|above|under|$)\\b)`\n",
    "    - **What it does**:\tThis works much like the Regex shown above, except that it finds text that begins with this or these. This can also be very helpful when you need to extract terminology from a project.\n",
    "\n",
    "**Regex** :`(.*?)`\n",
    "- **What it does** : Accept blah-blah-blah...\n",
    "\n"
   ]
  },
  {
   "cell_type": "markdown",
   "id": "f60484b0",
   "metadata": {},
   "source": [
    "---"
   ]
  },
  {
   "cell_type": "markdown",
   "id": "b1f78800",
   "metadata": {},
   "source": [
    "## Python [re module](https://docs.python.org/3/library/re.html)\n",
    "\n",
    "- `re.sub(regex, replacement, subject)` performs a search-and-replace across subject, replacing all\n",
    "matches of regex in subject with replacement. The result is returned by the sub() function. **The subject\n",
    "string you pass is not modified**. The re.sub() function applies the same backslash logic to the replacement text as is applied to the regular expression. Therefore, you should use raw strings for the replacement text..."
   ]
  },
  {
   "cell_type": "markdown",
   "id": "9668b439",
   "metadata": {},
   "source": [
    "Let's go back to some Python code and put to the test some regex we just learned."
   ]
  },
  {
   "cell_type": "code",
   "execution_count": 6,
   "id": "49e62524",
   "metadata": {},
   "outputs": [
    {
     "name": "stdout",
     "output_type": "stream",
     "text": [
      "Original Tweet ---- \n",
      " #fingerprint #Pregnancy Test https://goo.gl/h1MfQV #android +#apps +#beautiful          #cute #health #igers #iphoneonly #iphonesia #iphone              <3 ;D :( :-(\n",
      "\n",
      " Tweet after replacing hashtags ----\n",
      "   fingerprint   Pregnancy  Test https://goo.gl/h1MfQV  android  + apps  + beautiful            cute   health   igers   iphoneonly   iphonesia   iphone               <3 ;D :( :-(\n",
      "\n",
      " Tweet after replacing Emojis for Love with EMP_POS ----\n",
      "   fingerprint   Pregnancy  Test https://goo.gl/h1MfQV  android  + apps  + beautiful            cute   health   igers   iphoneonly   iphonesia   iphone                EMO_POS  ;D :( :-(\n",
      "\n",
      " Tweet after replacing Emojis for Wink with EMP_POS ----\n",
      "   fingerprint   Pregnancy  Test https://goo.gl/h1MfQV  android  + apps  + beautiful            cute   health   igers   iphoneonly   iphonesia   iphone                EMO_POS   EMO_POS  :( :-(\n",
      "\n",
      " Tweet after replacing Emojis for Sad with EMP_NEG ----\n",
      "   fingerprint   Pregnancy  Test https://goo.gl/h1MfQV  android  + apps  + beautiful            cute   health   igers   iphoneonly   iphonesia   iphone                EMO_POS   EMO_POS   EMO_NEG   EMO_NEG \n"
     ]
    }
   ],
   "source": [
    "import re\n",
    "\n",
    "tweet = '#fingerprint #Pregnancy Test https://goo.gl/h1MfQV #android +#apps +#beautiful \\\n",
    "         #cute #health #igers #iphoneonly #iphonesia #iphone \\\n",
    "             <3 ;D :( :-('\n",
    "\n",
    "#Let's take care of emojis and the #(hash-tags)...\n",
    "\n",
    "print(f'Original Tweet ---- \\n {tweet}')\n",
    "\n",
    "## Replacing #hashtag with only hashtag\n",
    "tweet = re.sub(r'#(\\S+)', r' \\1 ', tweet)\n",
    "#this gets a bit technical as here we are using Backreferencing and Character Sets Shorthands and replacing the captured Group.\n",
    "#\\S = [^\\s] Matches any charachter that isn't white space\n",
    "print(f'\\n Tweet after replacing hashtags ----\\n  {tweet}')\n",
    "\n",
    "## Love -- <3, :*\n",
    "tweet = re.sub(r'(<3|:\\*)', ' EMO_POS ', tweet)\n",
    "print(f'\\n Tweet after replacing Emojis for Love with EMP_POS ----\\n  {tweet}')\n",
    "\n",
    "#The parentheses are for Grouping, so we search (remeber the raw string (`r`))\n",
    "#either for <3 or(|) :\\* (as * is a meta character, so preceeded by the backslash)\n",
    "\n",
    "## Wink -- ;-), ;), ;-D, ;D, (;,  (-;\n",
    "tweet = re.sub(r'(;-?\\)|;-?D|\\(-?;)', ' EMO_POS ', tweet)\n",
    "print(f'\\n Tweet after replacing Emojis for Wink with EMP_POS ----\\n  {tweet}')\n",
    "\n",
    "#The parentheses are for Grouping as usual, then we first focus on `;-), ;),`, so we can see that 1st we need to have a ;\n",
    "#and then we can either have a `-` or nothing, so we can do this via using our `?` clubbed with `;` and hence we have the very\n",
    "#starting with `(;-?\\)` and simarly for others...\n",
    "\n",
    "## Sad -- :-(, : (, :(, ):, )-:\n",
    "tweet = re.sub(r'(:\\s?\\(|:-\\(|\\)\\s?:|\\)-:)', ' EMO_NEG ', tweet)\n",
    "print(f'\\n Tweet after replacing Emojis for Sad with EMP_NEG ----\\n  {tweet}')"
   ]
  },
  {
   "cell_type": "code",
   "execution_count": 7,
   "id": "dc956245",
   "metadata": {},
   "outputs": [
    {
     "name": "stdout",
     "output_type": "stream",
     "text": [
      "\n",
      " Tweet after replacing xtra spaces ----\n",
      "   fingerprint Pregnancy Test https://goo.gl/h1MfQV android + apps + beautiful cute health igers iphoneonly iphonesia iphone EMO_POS EMO_POS EMO_NEG EMO_NEG \n",
      "\n",
      " Tweet after replacing Punctuation + with PUNC ----\n",
      "   fingerprint Pregnancy Test httpsgooglh1MfQV android  apps  beautiful cute health igers iphoneonly iphonesia iphone EMO_POS EMO_POS EMO_NEG EMO_NEG \n"
     ]
    }
   ],
   "source": [
    "##See the Output Carefully, there are Spaces inbetween un-necessary...\n",
    "## Replace multiple spaces with a single space\n",
    "tweet = re.sub(r'\\s+', ' ', tweet)\n",
    "print(f'\\n Tweet after replacing xtra spaces ----\\n  {tweet}')\n",
    "      \n",
    "##Replace the Puctuations (+,;) \n",
    "tweet = re.sub(r'[^\\w\\s]','',tweet)\n",
    "print(f'\\n Tweet after replacing Punctuation + with PUNC ----\\n  {tweet}')"
   ]
  },
  {
   "cell_type": "code",
   "execution_count": 22,
   "id": "62cb0665",
   "metadata": {},
   "outputs": [],
   "source": [
    "# bags of positive/negative smiles (You can extend the above example to take care of these few too...))) A good Excercise...\n",
    "\n",
    "positive_emojis = set([\n",
    "\":‑)\",\":)\",\":-]\",\":]\",\":-3\",\":3\",\":->\",\":>\",\"8-)\",\"8)\",\":-}\",\":}\",\":o)\",\":c)\",\":^)\",\"=]\",\"=)\",\":‑D\",\":D\",\"8‑D\",\"8D\",\n",
    "\"x‑D\",\"xD\",\"X‑D\",\"XD\",\"=D\",\"=3\",\"B^D\",\":-))\",\";‑)\",\";)\",\"*-)\",\"*)\",\";‑]\",\";]\",\";^)\",\":‑,\",\";D\",\":‑P\",\":P\",\"X‑P\",\"XP\",\n",
    "\"x‑p\",\"xp\",\":‑p\",\":p\",\":‑Þ\",\":Þ\",\":‑þ\",\":þ\",\":‑b\",\":b\",\"d:\",\"=p\",\">:P\", \":'‑)\", \":')\",  \":-*\", \":*\", \":×\"\n",
    "])\n",
    "negative_emojis = set([\n",
    "\":‑(\",\":(\",\":‑c\",\":c\",\":‑<\",\":<\",\":‑[\",\":[\",\":-||\",\">:[\",\":{\",\":@\",\">:(\",\"D‑':\",\"D:<\",\"D:\",\"D8\",\"D;\",\"D=\",\"DX\",\":‑/\",\n",
    "\":/\",\":‑.\",'>:\\\\', \">:/\", \":\\\\\", \"=/\" ,\"=\\\\\", \":L\", \"=L\",\":S\",\":‑|\",\":|\",\"|‑O\",\"<:‑|\"\n",
    "])\n",
    "\n",
    "# del positive_emojis, negative_emojis"
   ]
  },
  {
   "cell_type": "code",
   "execution_count": 20,
   "id": "2545c10d",
   "metadata": {},
   "outputs": [],
   "source": [
    "## Valid Dates..\n",
    "pattern = r'(19|20)\\d\\d[- /.](0[1-9]|1[012])[- /.](0[1-9]|[12][0-9]|3[01])' "
   ]
  },
  {
   "cell_type": "markdown",
   "id": "f909b863",
   "metadata": {},
   "source": [
    "- matches a date in yyyy-mm-dd format from between 1900-01-01 and 2099-12-31, with a choice of four separators(space included :))\n",
    "\n",
    "- The year is matched by `(19|20)\\d\\d`\n",
    "- The month is matched by `(0[1-9]|1[012])` (rounding brackets are necessary so that to include both the options)\n",
    "    - By using character classes, \n",
    "        - the first option matches a number between `01 and 09`, and \n",
    "        - the second matches `10, 11 or 12`\n",
    "- The last part of the regex consists of three options. The first matches the numbers `01\n",
    "through 09`, the second `10 through 29`, and the third matches `30 or 31`... "
   ]
  },
  {
   "cell_type": "code",
   "execution_count": 24,
   "id": "44cc806c",
   "metadata": {},
   "outputs": [],
   "source": [
    "## Pattern to match any IP Addresses \n",
    "pattern = r'\\b\\d{1,3}\\.\\d{1,3}\\.\\d{1,3}\\.\\d{1,3}\\b'"
   ]
  },
  {
   "cell_type": "markdown",
   "id": "7029893e",
   "metadata": {},
   "source": [
    "the above pattern will also match `999.999.999.999` but that isn't a valid IP at all\n",
    "Now this depends on the data at hand as to how far you want the regex to be accurate...\n",
    "To restrict all `4` numbers in the IP address to `0..255`, you can use this\n",
    "complex beast: \n",
    "- `\\b(25[0-5]|2[0-4][0-9]|[01]?[0-9][0-9]?)\\.(25[0-5]|2[0-4][0-\n",
    "9]|[01]?[0-9][0-9]?)\\.(25[0-5]|2[0-4][0-9]|[01]?[0-9][0-9]?)\\.(25[0-5]|2[0-\n",
    "4][0-9]|[01]?[0-9][0-9]?)\\b`"
   ]
  },
  {
   "cell_type": "markdown",
   "id": "62366294",
   "metadata": {},
   "source": [
    "---"
   ]
  },
  {
   "cell_type": "markdown",
   "id": "33bb2422",
   "metadata": {},
   "source": [
    "# References\n",
    "This was a short intro, you can explore more on the topic of RE in the following resources:\n",
    "\n",
    "- [Wikipedia](http://en.wikipedia.org/wiki/Regular_expression)\n",
    "- [rexegg](http://www.rexegg.com/regex-quickstart.html#chars)\n",
    "- [greenend](http://www.greenend.org.uk/rjk/tech/regexp.html)\n"
   ]
  },
  {
   "cell_type": "markdown",
   "id": "29a85a13",
   "metadata": {},
   "source": [
    "# More references...  #\n",
    "\n",
    "\n",
    "- http://www.rexegg.com/ \n",
    "- https://github.com/aloisdg/awesome-regex\n",
    "- http://linuxreviews.org/beginner/tao_of_regular_expressions/tao_of_regular_expressions.en.print.pdf\n",
    "- https://developers.google.com/edu/python/regular-expressions\n",
    "- https://www.youtube.com/watch?v=EkluES9Rvak\n",
    "\n",
    "PS I wrote (above things) for the [Amazing Course](https://mlcourse.ai/) which is maintained by [@kashnitsky](https://www.kaggle.com/kashnitsky),[@artgor](https://www.kaggle.com/artgor) , [@datamove](https://www.kaggle.com/metadist) etc. and many many many other amazing peoples from ODS who framed the amazing course;\n",
    "\n",
    "You can find the source nbs [here](https://github.com/Yorko/mlcourse.ai/tree/master/jupyter_english/tutorials) and a lot of very cool stuffs there as well."
   ]
  },
  {
   "cell_type": "markdown",
   "id": "829479c9",
   "metadata": {},
   "source": []
  }
 ],
 "metadata": {
  "kernelspec": {
   "display_name": "Python 3 (ipykernel)",
   "language": "python",
   "name": "python3"
  },
  "language_info": {
   "codemirror_mode": {
    "name": "ipython",
    "version": 3
   },
   "file_extension": ".py",
   "mimetype": "text/x-python",
   "name": "python",
   "nbconvert_exporter": "python",
   "pygments_lexer": "ipython3",
   "version": "3.8.12"
  }
 },
 "nbformat": 4,
 "nbformat_minor": 5
}
